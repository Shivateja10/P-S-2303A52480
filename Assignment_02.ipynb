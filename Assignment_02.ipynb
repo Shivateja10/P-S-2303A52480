{
  "nbformat": 4,
  "nbformat_minor": 0,
  "metadata": {
    "colab": {
      "provenance": [],
      "authorship_tag": "ABX9TyOqgNJ06zdqq86iUgh546OI",
      "include_colab_link": true
    },
    "kernelspec": {
      "name": "python3",
      "display_name": "Python 3"
    },
    "language_info": {
      "name": "python"
    }
  },
  "cells": [
    {
      "cell_type": "markdown",
      "metadata": {
        "id": "view-in-github",
        "colab_type": "text"
      },
      "source": [
        "<a href=\"https://colab.research.google.com/github/Shivateja10/P-S-2303A52480/blob/main/Assignment_02.ipynb\" target=\"_parent\"><img src=\"https://colab.research.google.com/assets/colab-badge.svg\" alt=\"Open In Colab\"/></a>"
      ]
    },
    {
      "cell_type": "markdown",
      "source": [
        "Question-01"
      ],
      "metadata": {
        "id": "TyZzZTJOfx8-"
      }
    },
    {
      "cell_type": "code",
      "execution_count": 36,
      "metadata": {
        "id": "UzRQgKFeZGdA"
      },
      "outputs": [],
      "source": [
        "import numpy as np\n",
        "import pandas as pd"
      ]
    },
    {
      "cell_type": "code",
      "source": [
        "Data = [45, 67, 89, 23, 45, 67, 89, 34, 56, 78, 90, 21, 45, 67, 89, 23, 45,\n",
        "56, 78, 34, 23, 45, 67, 89, 45, 67, 89, 12, 34, 56, 78, 90, 23, 45,\n",
        "67, 12, 34, 78, 45, 67, 89, 34, 56, 78, 90, 23, 56, 78, 89, 45, 12,\n",
        "67, 45, 78, 23, 45, 67, 89, 34, 45, 23, 78, 67, 89, 45, 67, 89, 12,\n",
        "34, 56, 78, 90, 23, 12, 34, 56, 78, 23, 45, 67, 89, 34, 45, 23, 45,\n",
        "67, 89, 12, 34, 56, 78, 90, 45, 23]"
      ],
      "metadata": {
        "id": "WknugZXHfB3V"
      },
      "execution_count": 37,
      "outputs": []
    },
    {
      "cell_type": "code",
      "source": [
        "median_numpy = np.median(Data)\n",
        "print('Numpy Median', median_numpy)\n",
        "data_series = pd.Series(Data)\n",
        "median_pandas = data_series.median()\n",
        "print('Pandas Median', median_pandas)\n",
        "mode_numpy = np.argmax(np.bincount(Data))\n",
        "print('Numpy Mode', mode_numpy)\n",
        "mode_pandas = pd.Series(Data).mode()[0]\n",
        "print('Pandas Mode', mode_pandas)"
      ],
      "metadata": {
        "colab": {
          "base_uri": "https://localhost:8080/"
        },
        "id": "sDKceGrZfMPG",
        "outputId": "e769f0fb-f9fb-49c6-9dae-4b019d80cb79"
      },
      "execution_count": 38,
      "outputs": [
        {
          "output_type": "stream",
          "name": "stdout",
          "text": [
            "Numpy Median 56.0\n",
            "Pandas Median 56.0\n",
            "Numpy Mode 45\n",
            "Pandas Mode 45\n"
          ]
        }
      ]
    },
    {
      "cell_type": "markdown",
      "source": [
        "Question-02"
      ],
      "metadata": {
        "id": "lOmhENQshU3U"
      }
    },
    {
      "cell_type": "code",
      "source": [
        "import pandas as pd\n",
        "import numpy as np"
      ],
      "metadata": {
        "id": "IC7s-1AugRv6"
      },
      "execution_count": 41,
      "outputs": []
    },
    {
      "cell_type": "code",
      "source": [
        "scores = [10, 20, 30, 40, 50, 60, 70, 80, 90, 100]\n",
        "frequencies = [200, 350, 400, 300, 250, 200, 150, 80, 50, 20]\n",
        "df = pd.DataFrame({'Scores': scores, 'Frequency': frequencies})\n",
        "df['Cumulative Frequency'] = df['Frequency'].cumsum()\n",
        "N = df['Frequency'].sum()\n",
        "median_position = N / 2\n",
        "median_class_index = df[df['Cumulative Frequency'] >= median_position].index[0]\n",
        "mode_index = df['Frequency'].idxmax()\n",
        "mode_value = df.loc[mode_index, 'Scores']\n",
        "print(f\"Pandas Median : {df.loc[median_class_index, 'Scores']}\")\n",
        "print(f\"Pandas Mode: {mode_value}\")"
      ],
      "metadata": {
        "colab": {
          "base_uri": "https://localhost:8080/"
        },
        "id": "L8WVzF3YhUKM",
        "outputId": "02326e67-6f36-4fd4-be37-5dd258f69ce7"
      },
      "execution_count": 42,
      "outputs": [
        {
          "output_type": "stream",
          "name": "stdout",
          "text": [
            "Pandas Median : 40\n",
            "Pandas Mode: 30\n"
          ]
        }
      ]
    },
    {
      "cell_type": "markdown",
      "source": [
        "Question-03"
      ],
      "metadata": {
        "id": "Kd9BoGYqlSDh"
      }
    },
    {
      "cell_type": "code",
      "source": [
        "import numpy as np\n",
        "import pandas as pd"
      ],
      "metadata": {
        "id": "3DcbCBBtmZlQ"
      },
      "execution_count": 43,
      "outputs": []
    },
    {
      "cell_type": "code",
      "source": [
        "class_intervals = [(0, 20), (20, 40), (40, 60), (60, 80), (80, 100), (100, 120), (120, 140)]\n",
        "frequencies = [50, 120, 200, 300, 220, 70, 40]"
      ],
      "metadata": {
        "id": "RNSF5vCrmZTU"
      },
      "execution_count": 44,
      "outputs": []
    },
    {
      "cell_type": "code",
      "source": [
        "df = pd.DataFrame({'Class Interval': class_intervals, 'Frequency': frequencies})\n",
        "df['Cumulative Frequency'] = df['Frequency'].cumsum()\n",
        "N = df['Frequency'].sum()\n",
        "median_position = N / 2\n",
        "median_class_index = df[df['Cumulative Frequency'] >= median_position].index[0]\n",
        "L = df.loc[median_class_index, 'Class Interval'][0]\n",
        "F = df.loc[median_class_index - 1, 'Cumulative Frequency'] if median_class_index > 0 else 0\n",
        "f_median = df.loc[median_class_index, 'Frequency']\n",
        "h = df.loc[median_class_index, 'Class Interval'][1] - df.loc[median_class_index, 'Class Interval'][0]\n",
        "median_value = L + ((median_position - F) / f_median) * h\n",
        "mode_class_index = df['Frequency'].idxmax()\n",
        "L_mode = df.loc[mode_class_index, 'Class Interval'][0]\n",
        "f1 = df.loc[mode_class_index, 'Frequency']\n",
        "f0 = df.loc[mode_class_index - 1, 'Frequency'] if mode_class_index > 0 else 0\n",
        "f2 = df.loc[mode_class_index + 1, 'Frequency'] if mode_class_index < len(df) - 1 else 0\n",
        "h_mode = df.loc[mode_class_index, 'Class Interval'][1] - df.loc[mode_class_index, 'Class Interval'][0]\n",
        "mode_value = L_mode + ((f1 - f0) / (2*f1 - f0 - f2)) * h_mode\n",
        "print(f\"Median: {median_value:.2f}\")\n",
        "print(f\"Mode: {mode_value:.2f}\")\n",
        "print(f\"Modal Class: {df.loc[mode_class_index, 'Class Interval']}\")"
      ],
      "metadata": {
        "colab": {
          "base_uri": "https://localhost:8080/"
        },
        "id": "XRLdm-tmlT-V",
        "outputId": "53042140-6441-4160-d569-3f17bd3b8d50"
      },
      "execution_count": 53,
      "outputs": [
        {
          "output_type": "stream",
          "name": "stdout",
          "text": [
            "Median: 68.67\n",
            "Mode: 71.11\n",
            "Modal Class: (60, 80)\n"
          ]
        }
      ]
    }
  ]
}