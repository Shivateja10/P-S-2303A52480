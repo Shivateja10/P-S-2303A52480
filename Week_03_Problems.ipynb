{
  "nbformat": 4,
  "nbformat_minor": 0,
  "metadata": {
    "colab": {
      "provenance": [],
      "authorship_tag": "ABX9TyPyo/HuPlw2awuGQ0mown4Y",
      "include_colab_link": true
    },
    "kernelspec": {
      "name": "python3",
      "display_name": "Python 3"
    },
    "language_info": {
      "name": "python"
    }
  },
  "cells": [
    {
      "cell_type": "markdown",
      "metadata": {
        "id": "view-in-github",
        "colab_type": "text"
      },
      "source": [
        "<a href=\"https://colab.research.google.com/github/Shivateja10/P-S-2303A52480/blob/main/Week_03_Problems.ipynb\" target=\"_parent\"><img src=\"https://colab.research.google.com/assets/colab-badge.svg\" alt=\"Open In Colab\"/></a>"
      ]
    },
    {
      "cell_type": "markdown",
      "source": [
        "Question-01"
      ],
      "metadata": {
        "id": "ijDdV6EBcn2b"
      }
    },
    {
      "cell_type": "code",
      "execution_count": 112,
      "metadata": {
        "id": "D5HaOmn3bIbr"
      },
      "outputs": [],
      "source": [
        "import numpy as np\n",
        "import pandas as pd"
      ]
    },
    {
      "cell_type": "code",
      "source": [
        "data = [12,45,67,23,45,89,45,12,33,67,67,78,45,23,23,56,89,45,33,45]"
      ],
      "metadata": {
        "id": "UgHsRpnkbYY0"
      },
      "execution_count": 113,
      "outputs": []
    },
    {
      "cell_type": "code",
      "source": [
        "median_numpy = np.median(data)"
      ],
      "metadata": {
        "id": "VvPKhRMUbfJV"
      },
      "execution_count": 114,
      "outputs": []
    },
    {
      "cell_type": "code",
      "source": [
        "mode_numpy = np.unique(data)"
      ],
      "metadata": {
        "id": "ZDpDRxXFbq3a"
      },
      "execution_count": 115,
      "outputs": []
    },
    {
      "cell_type": "code",
      "source": [
        "mode_pandas = pd.Series(data).mode()[0]"
      ],
      "metadata": {
        "id": "Y9QquUv7ckF5"
      },
      "execution_count": 116,
      "outputs": []
    },
    {
      "cell_type": "markdown",
      "source": [
        "Task-01"
      ],
      "metadata": {
        "id": "s-39URgRctt0"
      }
    },
    {
      "cell_type": "markdown",
      "source": [
        "A. Median using numpy"
      ],
      "metadata": {
        "id": "5J2E7DERc0uQ"
      }
    },
    {
      "cell_type": "code",
      "source": [
        "print('Medium :', median_numpy)"
      ],
      "metadata": {
        "colab": {
          "base_uri": "https://localhost:8080/"
        },
        "id": "Y90QabV_cInA",
        "outputId": "71a25e65-13c3-49fe-989e-0aad039897be"
      },
      "execution_count": 117,
      "outputs": [
        {
          "output_type": "stream",
          "name": "stdout",
          "text": [
            "Medium : 45.0\n"
          ]
        }
      ]
    },
    {
      "cell_type": "markdown",
      "source": [
        "B. Mode using numpy"
      ],
      "metadata": {
        "id": "xsRygxE_c1tD"
      }
    },
    {
      "cell_type": "code",
      "source": [
        "values, counts = np.unique(data, return_counts=True)\n",
        "mode_numpy = values[np.argmax(counts)]"
      ],
      "metadata": {
        "id": "X_8OUBMDksQk"
      },
      "execution_count": 118,
      "outputs": []
    },
    {
      "cell_type": "code",
      "source": [
        "print('Mode :', mode_numpy)"
      ],
      "metadata": {
        "colab": {
          "base_uri": "https://localhost:8080/"
        },
        "id": "vg8GKET2cNgG",
        "outputId": "7f24a6d8-b2d9-48fd-b3a3-e5409cc5a3d2"
      },
      "execution_count": 119,
      "outputs": [
        {
          "output_type": "stream",
          "name": "stdout",
          "text": [
            "Mode : 45\n"
          ]
        }
      ]
    },
    {
      "cell_type": "markdown",
      "source": [
        "Task-02"
      ],
      "metadata": {
        "id": "yeOyJbVWc2oY"
      }
    },
    {
      "cell_type": "code",
      "source": [
        "print('Mode :', mode_pandas)"
      ],
      "metadata": {
        "colab": {
          "base_uri": "https://localhost:8080/"
        },
        "id": "ReLpb6g8cRJE",
        "outputId": "3c0825ec-378a-4bf9-ce4c-fa4715341b10"
      },
      "execution_count": 120,
      "outputs": [
        {
          "output_type": "stream",
          "name": "stdout",
          "text": [
            "Mode : 45\n"
          ]
        }
      ]
    },
    {
      "cell_type": "markdown",
      "source": [
        "Question-02"
      ],
      "metadata": {
        "id": "GXDRh2NPc8Rt"
      }
    },
    {
      "cell_type": "code",
      "source": [
        "import numpy as np\n",
        "import pandas as pd"
      ],
      "metadata": {
        "id": "WySvyTMPdj6q"
      },
      "execution_count": 121,
      "outputs": []
    },
    {
      "cell_type": "code",
      "source": [
        "score = [10, 20, 30, 40, 50]\n",
        "frequency = [5, 8, 12, 15, 7]"
      ],
      "metadata": {
        "id": "o5XhmzkqcXsA"
      },
      "execution_count": 122,
      "outputs": []
    },
    {
      "cell_type": "code",
      "source": [
        "df = pd.DataFrame({'Data': score, 'Frequency': frequency})"
      ],
      "metadata": {
        "id": "d4dbHMWXd-OF"
      },
      "execution_count": 123,
      "outputs": []
    },
    {
      "cell_type": "code",
      "source": [
        "print(df)"
      ],
      "metadata": {
        "colab": {
          "base_uri": "https://localhost:8080/"
        },
        "id": "Mcw_qhRxiPDG",
        "outputId": "a9cd37f9-aaac-4144-c3d2-f9ba9640e27e"
      },
      "execution_count": 124,
      "outputs": [
        {
          "output_type": "stream",
          "name": "stdout",
          "text": [
            "   Data  Frequency\n",
            "0    10          5\n",
            "1    20          8\n",
            "2    30         12\n",
            "3    40         15\n",
            "4    50          7\n"
          ]
        }
      ]
    },
    {
      "cell_type": "code",
      "source": [
        "median = np.median(df['Data'])\n",
        "mode = df['Data'].mode()[0]"
      ],
      "metadata": {
        "id": "DChcCT10iMXv"
      },
      "execution_count": 125,
      "outputs": []
    },
    {
      "cell_type": "markdown",
      "source": [
        "Task-01"
      ],
      "metadata": {
        "id": "PPL9IPCGh422"
      }
    },
    {
      "cell_type": "code",
      "source": [
        "print('Median :',median)"
      ],
      "metadata": {
        "colab": {
          "base_uri": "https://localhost:8080/"
        },
        "id": "TtOxwLK5e2-r",
        "outputId": "1a2a1c52-fb8f-4069-e1a4-d503eb0e468d"
      },
      "execution_count": 126,
      "outputs": [
        {
          "output_type": "stream",
          "name": "stdout",
          "text": [
            "Median : 30.0\n"
          ]
        }
      ]
    },
    {
      "cell_type": "code",
      "source": [
        "print('Mode :', mode)"
      ],
      "metadata": {
        "colab": {
          "base_uri": "https://localhost:8080/"
        },
        "id": "MVK1W1Bke862",
        "outputId": "001c4c54-e6ce-4ade-b0df-0eea4d503238"
      },
      "execution_count": 127,
      "outputs": [
        {
          "output_type": "stream",
          "name": "stdout",
          "text": [
            "Mode : 10\n"
          ]
        }
      ]
    },
    {
      "cell_type": "markdown",
      "source": [
        "Task-02"
      ],
      "metadata": {
        "id": "g0OnlV9ujaFh"
      }
    },
    {
      "cell_type": "code",
      "source": [
        "mode_pandas = pd.Series(data).mode().values[0]"
      ],
      "metadata": {
        "id": "72rjQmZGjdAt"
      },
      "execution_count": 128,
      "outputs": []
    },
    {
      "cell_type": "code",
      "source": [
        "print('Mode: ', mode_pandas)"
      ],
      "metadata": {
        "colab": {
          "base_uri": "https://localhost:8080/"
        },
        "id": "AeLMl6Ucjd85",
        "outputId": "02f4b4ac-da5e-40ff-b082-295e8d87d343"
      },
      "execution_count": 129,
      "outputs": [
        {
          "output_type": "stream",
          "name": "stdout",
          "text": [
            "Mode:  45\n"
          ]
        }
      ]
    },
    {
      "cell_type": "markdown",
      "source": [
        "Question-03"
      ],
      "metadata": {
        "id": "ChJgCK2ffmAR"
      }
    },
    {
      "cell_type": "markdown",
      "source": [
        "Task-01"
      ],
      "metadata": {
        "id": "baccen5Rhyp4"
      }
    },
    {
      "cell_type": "code",
      "source": [
        "import numpy as np\n",
        "import pandas as pd"
      ],
      "metadata": {
        "id": "yA_wfwDCgaB0"
      },
      "execution_count": 130,
      "outputs": []
    },
    {
      "cell_type": "code",
      "source": [
        "class_intervals = [(0, 10), (10, 20), (20, 30), (30, 40), (40, 50)]\n",
        "freq_intervals = [4, 6, 10, 8, 2]"
      ],
      "metadata": {
        "id": "QSjvRNebhags"
      },
      "execution_count": 131,
      "outputs": []
    },
    {
      "cell_type": "code",
      "source": [
        "cum_freq = np.cumsum(freq_intervals)\n",
        "N = sum(freq_intervals)\n",
        "median_class_idx = np.where(cum_freq >= N / 2)[0][0]"
      ],
      "metadata": {
        "id": "kX1yVgZIhin2"
      },
      "execution_count": 132,
      "outputs": []
    },
    {
      "cell_type": "code",
      "source": [
        "L = class_intervals[median_class_idx][0]\n",
        "F = cum_freq[median_class_idx - 1] if median_class_idx > 0 else 0\n",
        "f = freq_intervals[median_class_idx]\n",
        "h = class_intervals[0][1] - class_intervals[0][0]\n",
        "median_class = L + ((N / 2 - F) / f) * h\n",
        "mode_class = L_mode + ((f1 - f0) / (2 * f1 - f0 - f2)) * h"
      ],
      "metadata": {
        "id": "HQa3_FdUhkXw"
      },
      "execution_count": 137,
      "outputs": []
    },
    {
      "cell_type": "code",
      "source": [
        "print(\"Median:\", median_class)\n",
        "print(\"Mode:\", mode_class)"
      ],
      "metadata": {
        "colab": {
          "base_uri": "https://localhost:8080/"
        },
        "id": "UKWj8RNfhl5x",
        "outputId": "a00a826f-f0e6-4e75-999d-17baf2eb4587"
      },
      "execution_count": 138,
      "outputs": [
        {
          "output_type": "stream",
          "name": "stdout",
          "text": [
            "Median: 25.0\n",
            "Mode: 26.666666666666664\n"
          ]
        }
      ]
    },
    {
      "cell_type": "markdown",
      "source": [
        "Task-02"
      ],
      "metadata": {
        "id": "LL4UipiMkXjj"
      }
    },
    {
      "cell_type": "code",
      "source": [
        "print(f\"Approximate Median: {median_class:.2f}\")\n",
        "print(f\"Approximate Mode: {mode_class:.2f}\")"
      ],
      "metadata": {
        "colab": {
          "base_uri": "https://localhost:8080/"
        },
        "id": "OuIEMLZbkXPk",
        "outputId": "dfd0b11a-02a1-4da7-811d-99b29e31072c"
      },
      "execution_count": 139,
      "outputs": [
        {
          "output_type": "stream",
          "name": "stdout",
          "text": [
            "Approximate Median: 25.00\n",
            "Approximate Mode: 26.67\n"
          ]
        }
      ]
    }
  ]
}